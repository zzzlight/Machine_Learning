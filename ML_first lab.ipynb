{
 "cells": [
  {
   "cell_type": "code",
   "execution_count": 45,
   "metadata": {},
   "outputs": [
    {
     "name": "stdout",
     "output_type": "stream",
     "text": [
      "[[2 0 2]\n",
      " [3 2 0]\n",
      " [0 7 6]]\n"
     ]
    }
   ],
   "source": [
    "import numpy as np\n",
    "\n",
    "x=np.array([2,0,2,3,2,0,0,7,6])\n",
    "x=x.reshape([3,3])\n",
    "print(x)"
   ]
  },
  {
   "cell_type": "code",
   "execution_count": 46,
   "metadata": {},
   "outputs": [
    {
     "name": "stdout",
     "output_type": "stream",
     "text": [
      "[[2 3 0]\n",
      " [0 2 7]\n",
      " [2 0 6]]\n"
     ]
    }
   ],
   "source": [
    "transform=x.T\n",
    "print(transform)"
   ]
  },
  {
   "cell_type": "code",
   "execution_count": 47,
   "metadata": {},
   "outputs": [
    {
     "name": "stdout",
     "output_type": "stream",
     "text": [
      "[[2 0 2]\n",
      " [3 2 0]\n",
      " [0 7 6]]\n",
      "[[ 0.18181818  0.21212121 -0.06060606]\n",
      " [-0.27272727  0.18181818  0.09090909]\n",
      " [ 0.31818182 -0.21212121  0.06060606]]\n"
     ]
    }
   ],
   "source": [
    "print(x)\n",
    "a=np.linalg.inv(x)\n",
    "print(a)"
   ]
  },
  {
   "cell_type": "code",
   "execution_count": 48,
   "metadata": {},
   "outputs": [
    {
     "name": "stdout",
     "output_type": "stream",
     "text": [
      "[[2 0 2]\n",
      " [0 7 6]]\n"
     ]
    }
   ],
   "source": [
    "getline=x[[0,2],:]\n",
    "print(getline)"
   ]
  },
  {
   "cell_type": "code",
   "execution_count": 49,
   "metadata": {},
   "outputs": [
    {
     "name": "stdout",
     "output_type": "stream",
     "text": [
      "[[ 4  0  0]\n",
      " [ 0  4  0]\n",
      " [ 0  0 36]]\n"
     ]
    }
   ],
   "source": [
    "mult=transform*x\n",
    "print(mult)"
   ]
  },
  {
   "cell_type": "code",
   "execution_count": 50,
   "metadata": {},
   "outputs": [
    {
     "name": "stdout",
     "output_type": "stream",
     "text": [
      "[[0 7 6]\n",
      " [3 2 0]\n",
      " [2 0 2]]\n"
     ]
    }
   ],
   "source": [
    "reverse=x[::-1]\n",
    "print(reverse)"
   ]
  },
  {
   "cell_type": "code",
   "execution_count": null,
   "metadata": {},
   "outputs": [],
   "source": []
  }
 ],
 "metadata": {
  "kernelspec": {
   "display_name": "Python 3",
   "language": "python",
   "name": "python3"
  },
  "language_info": {
   "codemirror_mode": {
    "name": "ipython",
    "version": 3
   },
   "file_extension": ".py",
   "mimetype": "text/x-python",
   "name": "python",
   "nbconvert_exporter": "python",
   "pygments_lexer": "ipython3",
   "version": "3.8.5"
  }
 },
 "nbformat": 4,
 "nbformat_minor": 4
}
