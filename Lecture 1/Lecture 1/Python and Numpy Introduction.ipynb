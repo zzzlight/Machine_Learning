{
 "cells": [
  {
   "cell_type": "markdown",
   "metadata": {},
   "source": [
    "# Python and Numpy Basics\n",
    "\n",
    "Python is a flexible programming language that is used in a wide range of scenarios; from web applications to device programming. It's extremely popular in the data science and artificial intelligence (AI) community. If you're familiar with other programming languages, like Java or Microsoft C#, Python can seem a little confusing at first, This notebook is designed to offer a crash course in some of the key features of the language for existing programmers who are new to Python and the Jupyter notebook environment.\n",
    "\n",
    "## Getting Help\n",
    "One of the most useful features of Python is its built-in help feature. You can use the **help** function to view documentation for specific commands.\n",
    "\n",
    "Run the following cell to try it for yourself.\n",
    "\n",
    "(To run the cell, place the cursor in it and click the  **&#9658;I Run** button. The **&#9711;** symbol next to the **Python 3.6** kernel name at the top right will briefly turn to **&#9899;** while the cell runs before turning back to **&#9711;**.)"
   ]
  },
  {
   "cell_type": "code",
   "execution_count": null,
   "metadata": {},
   "outputs": [],
   "source": [
    "help(print)"
   ]
  },
  {
   "cell_type": "markdown",
   "metadata": {},
   "source": [
    "Note that the **help** function provides documentation for the class or function you specify. In this case, `help(print)` displays information about the **print** function, including details of its arguments.\n",
    "\n",
    "The notebook environment also supports autocomplete. To see how this works,, in the empty cell below type `print('Hello', 'World',` and then press the **Tab** key. This displays a scrollable list of contextual commands that you can use to complete your **print** statement. You can select a command in the list by scrolling to it with the arrow keys and pressing **Enter**, or by clicking it. Try using this technique to select the `sep=` argument to add it to your statement, and then complete the command to read `print('Hello', 'World',sep='\\n')`. Running this command produces the following output:\n",
    ">Hello<br/>World"
   ]
  },
  {
   "cell_type": "code",
   "execution_count": null,
   "metadata": {},
   "outputs": [],
   "source": []
  },
  {
   "cell_type": "markdown",
   "metadata": {},
   "source": [
    "## Basics: Variables and Loops\n",
    "Let's start with some basics; review the commented code in the following cell, and then run that cell to see the output."
   ]
  },
  {
   "cell_type": "code",
   "execution_count": null,
   "metadata": {},
   "outputs": [],
   "source": [
    "# Declare, initialize, and display a variable - No explicit declaration keyword or data type is required\n",
    "i = 0\n",
    "print('i: ', i)\n",
    "\n",
    "# We can use the *type* function to check the data type that has been automatically inferred\n",
    "print(type(i), '\\n')\n",
    "\n",
    "# Now let's create another variable:\n",
    "l = [1,2,3,4,5]\n",
    "print ('l:', l)\n",
    "print (type(l), '\\n')\n",
    "\n",
    "# And another\n",
    "t = (1,2,3,4,5)\n",
    "print ('t:', t)\n",
    "print (type(t), '\\n')\n",
    "\n",
    "# Now let's modify our variables:\n",
    "i = i + 1\n",
    "print('i: ', i)\n",
    "\n",
    "l = l + [6]\n",
    "print('\\nl: ', l)\n",
    "\n",
    "t = t + (6,'seven', (1,2), [10,20,30])\n",
    "print('\\nt: ', t)\n",
    "\n",
    "# l also has an *append* method:\n",
    "l.append('seven')\n",
    "l.append(t)\n",
    "l.append([100,200,300])\n",
    "print('l: ', l)"
   ]
  },
  {
   "cell_type": "markdown",
   "metadata": {},
   "source": [
    "Review the output from the code. and note the following:\n",
    "* **#** is the prefix for a comment\n",
    "* There are no line-end indicators such as **;**\n",
    "* Variable declarations require no type - **i** has automatically been detected as an *int*.\n",
    "* **l** is a *list* - this is indicated by the use of square brackets around zero or more values.\n",
    "* **t** is a *tuple* -  a single row of data with two or more columns\n",
    "* For numeric types, arithmetic operators work as expected; so 0 + 1 is 1.\n",
    "* For lists and tuples, (and strings), the **+** operator appends values of the same type\n",
    "* Lists and tuples are flexible - they can contain a mix of data types, including lists within lists.\n",
    "\n",
    "Since we've run the previous cell, as long as this notebook session remains active, our variables will still be in scope; so we can do some more work with them in the next cell:"
   ]
  },
  {
   "cell_type": "code",
   "execution_count": null,
   "metadata": {},
   "outputs": [],
   "source": [
    "# Create a list explicitly with a range\n",
    "nums = list(range(0,7))\n",
    "print  ('nums has %i elements.\\n' %len(nums))\n",
    "\n",
    "# reset i\n",
    "i = 0\n",
    "\n",
    "print('nums:')\n",
    "\n",
    "# loop through the elements of nums by incrementing i\n",
    "while(i < 7):\n",
    "    print(nums[i])\n",
    "    i = i + 1\n",
    "\n",
    "print('\\nl:')\n",
    "# iterate through nums and print the corresponding element of l\n",
    "for num in nums:\n",
    "    print('l[%i] = %s' %(num, l[num]))"
   ]
  },
  {
   "cell_type": "markdown",
   "metadata": {},
   "source": [
    "## Functions\n",
    "Now let's look at how we can use functions to encapsulate reusable code. Again, the following cell assumes that the previous cells in this notebook have been run in this session:"
   ]
  },
  {
   "cell_type": "code",
   "execution_count": null,
   "metadata": {},
   "outputs": [],
   "source": [
    "# Function to add a value to a list\n",
    "def add_element (lst, val):\n",
    "    lst.append(val)\n",
    "    \n",
    "# Function to get an element from a list\n",
    "def get_element(lst, idx):\n",
    "    val  = lst[idx]\n",
    "    return val\n",
    "\n",
    "# Function to get the maximum element and its index\n",
    "def get_last_element(lst):\n",
    "    lst_size = len(lst)\n",
    "    lst_end = lst[-1]\n",
    "    return lst_size, lst_end\n",
    "\n",
    "# call add_element\n",
    "add_element(l, 'new element')\n",
    "print(l)\n",
    "\n",
    "# call get_element\n",
    "v = get_element(l,0)\n",
    "print (v)\n",
    "\n",
    "# call get_last_element\n",
    "l_len, l_last = get_last_element(l)\n",
    "print(l_len,': ', l_last)"
   ]
  },
  {
   "cell_type": "markdown",
   "metadata": {},
   "source": [
    "Note the following:\n",
    "* Functions are defined using the **def** keyword.\n",
    "* The code for a function is indented under the **def** declaration.\n",
    "* Functions can accept zero or more parameters.\n",
    "* Functions can return zero or more outputs."
   ]
  },
  {
   "cell_type": "markdown",
   "metadata": {},
   "source": [
    "## Packages\n",
    "Python has evolved over a long period of time, and continues to evolve as new *packages* for specialist functionality are developed. Packages are the building blocks of Python. Most commonly used packages are generally pre-installed in most Python distributions, and you can install new packages and manage existing ones using the **pip** and **conda** utilities. You need to use these utilities from a command line / shell, not in python code. In Jupyter notebooks you can use the **!** command to run a shell command, as shown in the following cell:"
   ]
  },
  {
   "cell_type": "code",
   "execution_count": null,
   "metadata": {
    "scrolled": false
   },
   "outputs": [],
   "source": [
    "# Show pip usage help\n",
    "!pip -h\n",
    "\n",
    "print('\\n-------------\\n')\n",
    "\n",
    "# Show conda usage help\n",
    "!conda -h\n",
    "\n",
    "print('\\n-------------\\n')\n",
    "\n",
    "# Use pip to install the numpy package\n",
    "!pip install numpy"
   ]
  },
  {
   "cell_type": "markdown",
   "metadata": {},
   "source": [
    "### Importing package libraries\n",
    "After installing a package, you can import the modules it contains into your python code to use them. The following cell imports **numpy**, assigning it the alias **np**; and uses it to display the value of &pi;."
   ]
  },
  {
   "cell_type": "code",
   "execution_count": null,
   "metadata": {
    "scrolled": true
   },
   "outputs": [],
   "source": [
    "import numpy as np\n",
    "\n",
    "print(np.pi)"
   ]
  },
  {
   "cell_type": "markdown",
   "metadata": {},
   "source": [
    "You can also use the **from**...**import** construct to import specific functions or submodules from a package:"
   ]
  },
  {
   "cell_type": "code",
   "execution_count": null,
   "metadata": {
    "scrolled": false
   },
   "outputs": [],
   "source": [
    "from numpy import pi\n",
    "\n",
    "print(pi)"
   ]
  },
  {
   "cell_type": "markdown",
   "metadata": {
    "collapsed": true
   },
   "source": [
    "## Using numpy\n",
    "The **numpy** library is at the core of most machine learning code in Python, so it's worth spending a little time getting to know some of its key objects and functions. As you may have guessed, numpy is specifically designed to work with ***num***bers in ***py***thon; and in particular with vectors and matrices, which are implemented as numpy *arrays*."
   ]
  },
  {
   "cell_type": "code",
   "execution_count": null,
   "metadata": {
    "scrolled": false
   },
   "outputs": [],
   "source": [
    "# Define a vector as an array\n",
    "v = np.array([1,2,3])\n",
    "print(v)\n",
    "\n",
    "# Define a matrix as a 2D array\n",
    "M = np.array([[3,1,4],\n",
    "              [2,5,1],\n",
    "              [4,6,2]])\n",
    "print('\\n',M)\n",
    "\n",
    "# Calculate the dot product (Mv)\n",
    "print('\\n',np.dot(M,v))"
   ]
  },
  {
   "cell_type": "markdown",
   "metadata": {},
   "source": [
    "Note that:\n",
    "* **v** is a one-dimensional array containing three elements.\n",
    "* **M** is a two dimensional array containing three arrays, which each contain three elements.\n",
    "* You can use numpy to perform linear algebra - in this case, calculating the dot-product of a matrix and a vector. Linear algebra is the foundation for many machine learning operations, which is one reason why numpy is used so extensively in machine learning code.\n",
    "\n",
    "### Numpy Arrays and Lists\n",
    "Numpy arrays are conceptually similar to lists, and you can exchange data between these two structures easily. For example, run the following code to load a three-dimensional list into a numpy array, and then load the first dimension of the array into a list:"
   ]
  },
  {
   "cell_type": "code",
   "execution_count": null,
   "metadata": {},
   "outputs": [],
   "source": [
    "l = [[2,6,5],[4,2,3]]\n",
    "print(type(l))\n",
    "print(l)\n",
    "print('\\n')\n",
    "\n",
    "a = np.array(l)\n",
    "print(type(a))\n",
    "print(a)\n",
    "print('\\n')\n",
    "\n",
    "l2 = list(a[0])\n",
    "print(type(l2))\n",
    "print(l2)"
   ]
  },
  {
   "cell_type": "markdown",
   "metadata": {},
   "source": [
    "You may be wondering why we should bother with numpy arrays when we have lists. Well, now that we've got the same data in a list and a numpy array, we can see how they differ in behavior:"
   ]
  },
  {
   "cell_type": "code",
   "execution_count": null,
   "metadata": {},
   "outputs": [],
   "source": [
    "# Add two lists\n",
    "print ('l + l2:\\n', l + l2)\n",
    "\n",
    "# Add an array to a list\n",
    "print ('\\na + l2:\\n', a + l2)"
   ]
  },
  {
   "cell_type": "markdown",
   "metadata": {},
   "source": [
    "Adding two lists just appends their elements; but when you add a numpy array to a list, the list is implicitly treated as an array and and elementwise addition is performed. Fundamentally, numpy arrays are designed with linear algebra in mind, wheras lists are simply general purpose multi-element types.\n",
    "\n",
    "### Manipulating Array Shapes\n",
    "Arrays are inherently n-dimensional, and provide a lot of flexibility for viewing and manipulating their shape."
   ]
  },
  {
   "cell_type": "code",
   "execution_count": null,
   "metadata": {},
   "outputs": [],
   "source": [
    "# View a and its shape\n",
    "print (a)\n",
    "print (a.shape)\n",
    "\n",
    "# reshape a\n",
    "b = np.reshape(a, (3,2))\n",
    "print('\\n',b)\n",
    "print(b.shape)\n",
    "\n",
    "# flatten a\n",
    "r = a.ravel()\n",
    "print('\\n',r)\n",
    "print(r.shape)"
   ]
  },
  {
   "cell_type": "markdown",
   "metadata": {},
   "source": [
    "## Working with the File System\n",
    "You'll commonly need to work with files and folders in the file system, and Python includes libraries that enable you to do this as shown in the following code:"
   ]
  },
  {
   "cell_type": "code",
   "execution_count": null,
   "metadata": {},
   "outputs": [],
   "source": [
    "import os, shutil\n",
    "\n",
    "# We'll work with a folder named \"myfolder\" in the folder containing this notebook\n",
    "myfolder = 'myfolder'\n",
    "\n",
    "# delete it if it already exists\n",
    "if os.path.exists(myfolder):\n",
    "    print(\"Deleting existing folder..\\n\")\n",
    "    shutil.rmtree(myfolder)\n",
    "    \n",
    "# Create the folder and two subfolders\n",
    "os.makedirs(myfolder)\n",
    "os.makedirs(os.path.join(myfolder, \"subfolder1\"))\n",
    "os.makedirs(os.path.join(myfolder, \"subfolder2\"))\n",
    "\n",
    "# Create some text files\n",
    "i = 0\n",
    "for root, folders, filenames in os.walk(myfolder):\n",
    "    with open(os.path.join(root, \"file\" + str(i) + \"txt\"),mode=\"w\") as newfile:\n",
    "        newfile.write(\"This is text file\" + str(i))\n",
    "    i += 1\n",
    "    \n",
    "# List the items in the folder (a text file and two subfolders)\n",
    "folder_items = os.listdir(myfolder)\n",
    "for item in folder_items:\n",
    "    print(os.path.join(myfolder, item))\n",
    "            \n",
    "print(\"\\n\")\n",
    "\n",
    "# Loop recursively through the folder hierarchy, reading each file\n",
    "for root, folders, filenames in os.walk(myfolder):\n",
    "    for file in filenames:\n",
    "        file_path = os.path.join(root,file)\n",
    "        print(file_path)\n",
    "        with open(file_path,mode=\"r\") as txtfile:\n",
    "            txt = txtfile.read()\n",
    "        print(\"\\t\",txt)"
   ]
  }
 ],
 "metadata": {
  "kernelspec": {
   "display_name": "Python 3",
   "language": "python",
   "name": "python3"
  },
  "language_info": {
   "codemirror_mode": {
    "name": "ipython",
    "version": 3
   },
   "file_extension": ".py",
   "mimetype": "text/x-python",
   "name": "python",
   "nbconvert_exporter": "python",
   "pygments_lexer": "ipython3",
   "version": "3.7.4"
  }
 },
 "nbformat": 4,
 "nbformat_minor": 2
}
