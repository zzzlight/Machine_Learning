{
 "cells": [
  {
   "cell_type": "code",
   "execution_count": 93,
   "metadata": {},
   "outputs": [],
   "source": [
    "import numpy as np\n",
    "import pandas as pd\n",
    "import matplotlib.pyplot as plt"
   ]
  },
  {
   "cell_type": "code",
   "execution_count": 94,
   "metadata": {},
   "outputs": [
    {
     "data": {
      "text/html": [
       "<div>\n",
       "<style scoped>\n",
       "    .dataframe tbody tr th:only-of-type {\n",
       "        vertical-align: middle;\n",
       "    }\n",
       "\n",
       "    .dataframe tbody tr th {\n",
       "        vertical-align: top;\n",
       "    }\n",
       "\n",
       "    .dataframe thead th {\n",
       "        text-align: right;\n",
       "    }\n",
       "</style>\n",
       "<table border=\"1\" class=\"dataframe\">\n",
       "  <thead>\n",
       "    <tr style=\"text-align: right;\">\n",
       "      <th></th>\n",
       "      <th>Class_Name</th>\n",
       "      <th>Left-Weight</th>\n",
       "      <th>Left-Distance</th>\n",
       "      <th>Right-Weight</th>\n",
       "      <th>Right-Distance</th>\n",
       "    </tr>\n",
       "  </thead>\n",
       "  <tbody>\n",
       "    <tr>\n",
       "      <th>0</th>\n",
       "      <td>B</td>\n",
       "      <td>1</td>\n",
       "      <td>1</td>\n",
       "      <td>1</td>\n",
       "      <td>1</td>\n",
       "    </tr>\n",
       "    <tr>\n",
       "      <th>1</th>\n",
       "      <td>R</td>\n",
       "      <td>1</td>\n",
       "      <td>1</td>\n",
       "      <td>1</td>\n",
       "      <td>2</td>\n",
       "    </tr>\n",
       "    <tr>\n",
       "      <th>2</th>\n",
       "      <td>R</td>\n",
       "      <td>1</td>\n",
       "      <td>1</td>\n",
       "      <td>1</td>\n",
       "      <td>3</td>\n",
       "    </tr>\n",
       "    <tr>\n",
       "      <th>3</th>\n",
       "      <td>R</td>\n",
       "      <td>1</td>\n",
       "      <td>1</td>\n",
       "      <td>1</td>\n",
       "      <td>4</td>\n",
       "    </tr>\n",
       "    <tr>\n",
       "      <th>4</th>\n",
       "      <td>R</td>\n",
       "      <td>1</td>\n",
       "      <td>1</td>\n",
       "      <td>1</td>\n",
       "      <td>5</td>\n",
       "    </tr>\n",
       "  </tbody>\n",
       "</table>\n",
       "</div>"
      ],
      "text/plain": [
       "  Class_Name  Left-Weight  Left-Distance  Right-Weight  Right-Distance\n",
       "0          B            1              1             1               1\n",
       "1          R            1              1             1               2\n",
       "2          R            1              1             1               3\n",
       "3          R            1              1             1               4\n",
       "4          R            1              1             1               5"
      ]
     },
     "execution_count": 94,
     "metadata": {},
     "output_type": "execute_result"
    }
   ],
   "source": [
    "#Load the dataset\n",
    "\n",
    "train= pd.read_csv('balance-scale.data',header=None) \n",
    "train.columns=[\"Class_Name\",\"Left-Weight\",\"Left-Distance\",\"Right-Weight\",\"Right-Distance\"]\n",
    "backuptrain=train\n",
    "train.head()"
   ]
  },
  {
   "cell_type": "code",
   "execution_count": 95,
   "metadata": {},
   "outputs": [
    {
     "data": {
      "image/png": "[encoded data removed]",
      "text/plain": [
       "<Figure size 432x288 with 1 Axes>"
      ]
     },
     "metadata": {
      "needs_background": "light"
     },
     "output_type": "display_data"
    },
    {
     "data": {
      "text/plain": [
       "<Figure size 432x288 with 0 Axes>"
      ]
     },
     "metadata": {},
     "output_type": "display_data"
    },
    {
     "data": {
      "image/png": "[encoded data removed]",
      "text/plain": [
       "<Figure size 432x288 with 1 Axes>"
      ]
     },
     "metadata": {
      "needs_background": "light"
     },
     "output_type": "display_data"
    },
    {
     "data": {
      "text/plain": [
       "<Figure size 432x288 with 0 Axes>"
      ]
     },
     "metadata": {},
     "output_type": "display_data"
    },
    {
     "data": {
      "image/png": "[encoded data removed]",
      "text/plain": [
       "<Figure size 432x288 with 1 Axes>"
      ]
     },
     "metadata": {
      "needs_background": "light"
     },
     "output_type": "display_data"
    },
    {
     "data": {
      "text/plain": [
       "<Figure size 432x288 with 0 Axes>"
      ]
     },
     "metadata": {},
     "output_type": "display_data"
    },
    {
     "data": {
      "image/png": "[encoded data removed]",
      "text/plain": [
       "<Figure size 432x288 with 1 Axes>"
      ]
     },
     "metadata": {
      "needs_background": "light"
     },
     "output_type": "display_data"
    },
    {
     "data": {
      "text/plain": [
       "<Figure size 432x288 with 0 Axes>"
      ]
     },
     "metadata": {},
     "output_type": "display_data"
    },
    {
     "data": {
      "image/png": "[encoded data removed]",
      "text/plain": [
       "<Figure size 432x288 with 1 Axes>"
      ]
     },
     "metadata": {
      "needs_background": "light"
     },
     "output_type": "display_data"
    },
    {
     "data": {
      "text/plain": [
       "<Figure size 432x288 with 0 Axes>"
      ]
     },
     "metadata": {},
     "output_type": "display_data"
    }
   ],
   "source": [
    "for i in range(0,5):\n",
    "    plt.figure(figsize=(6.0,4.0))\n",
    "    plt.title(label=train.columns[i])\n",
    "    plt.hist(train.iloc[:,i])\n",
    "    plt.show()\n",
    "    plt.clf()"
   ]
  },
  {
   "cell_type": "code",
   "execution_count": 96,
   "metadata": {},
   "outputs": [],
   "source": [
    "train=train.drop('Class_Name', axis=1)\n",
    "x_train=train.values\n",
    "from sklearn.mixture import GaussianMixture"
   ]
  },
  {
   "cell_type": "code",
   "execution_count": 97,
   "metadata": {},
   "outputs": [
    {
     "name": "stdout",
     "output_type": "stream",
     "text": [
      "[1 1 1 1 1 1 1 1 1 1 2 1 1 1 1 2 2 2 2 2 2 2 2 2 2 1 1 1 1 1 1 1 1 1 1 2 1\n",
      " 1 1 1 2 2 2 2 2 2 2 2 2 2 1 1 1 1 3 0 0 1 3 3 0 0 0 3 3 0 2 2 3 3 2 2 2 2\n",
      " 3 0 0 0 3 3 0 0 0 3 3 0 0 0 3 3 0 0 0 3 3 0 0 0 3 3 0 0 0 3 3 0 0 0 3 3 0\n",
      " 0 0 3 3 0 0 0 3 3 0 0 0 3 3 1 1 1 1 1 1 1 1 1 1 1 1 1 1 1 2 2 2 2 2 2 2 2\n",
      " 2 2 1 1 1 1 1 1 1 1 1 1 2 1 1 1 1 2 2 2 2 2 2 2 2 2 2 1 1 1 1 3 0 0 1 3 3\n",
      " 0 0 0 3 3 0 2 2 3 3 2 2 2 2 3 0 0 0 3 3 0 0 0 3 3 0 0 0 3 3 0 0 0 3 3 0 0\n",
      " 0 3 3 0 0 0 3 3 0 0 0 3 3 0 0 0 3 3 0 0 0 3 3 0 0 0 3 3 1 1 1 1 1 1 1 1 1\n",
      " 1 1 1 1 1 1 2 2 2 2 2 2 2 2 2 2 1 1 1 1 1 1 1 1 1 1 2 1 1 1 1 2 2 2 2 2 2\n",
      " 2 2 2 2 1 1 1 1 3 0 1 1 3 3 0 0 1 3 3 0 2 2 3 3 2 2 2 2 3 0 0 0 3 3 0 0 0\n",
      " 3 3 0 0 0 3 3 0 0 0 3 3 0 0 0 3 3 0 0 0 3 3 0 0 0 3 3 0 0 0 3 3 0 0 0 3 3\n",
      " 0 0 0 3 3 1 1 1 1 1 1 1 1 1 1 1 1 1 1 1 2 2 2 2 2 2 2 2 2 2 1 1 1 1 1 1 1\n",
      " 1 1 1 2 1 1 1 1 2 2 2 2 2 2 2 2 2 2 1 1 1 1 3 0 1 1 3 3 0 0 1 3 3 0 2 2 3\n",
      " 3 2 2 2 2 3 0 0 0 3 3 0 0 0 3 3 0 0 0 3 3 0 0 0 3 3 0 0 0 3 3 0 0 0 3 3 0\n",
      " 0 0 3 3 0 0 0 3 3 0 0 0 3 3 0 0 0 3 3 1 1 1 1 1 1 1 1 1 1 1 1 1 1 1 2 2 2\n",
      " 2 2 2 2 2 2 2 1 1 1 1 1 1 1 1 1 1 2 1 1 1 1 2 2 2 2 2 2 2 2 2 2 1 1 1 1 3\n",
      " 0 1 1 3 3 0 0 1 3 3 0 2 2 3 3 2 2 2 2 3 0 0 0 3 3 0 0 0 3 3 0 0 0 3 3 0 0\n",
      " 0 3 3 0 0 0 3 3 0 0 0 3 3 0 0 0 3 3 0 0 0 3 3 0 0 0 3 3 0 0 0 3 3]\n",
      "[[2.99175441 4.20870978 2.94988003 1.80931832]\n",
      " [3.00585453 1.81067538 1.7896032  3.01541951]\n",
      " [2.99561207 1.83403993 4.25869221 2.92648822]\n",
      " [3.00682631 4.14107078 3.03721136 4.27790098]]\n",
      "[[[ 1.99991991e+00  1.59297688e-03 -3.00859487e-05 -8.15704493e-03]\n",
      "  [ 1.59297688e-03  5.85277902e-01  2.29992646e-02  5.64745098e-02]\n",
      "  [-3.00859487e-05  2.29992646e-02  1.90855440e+00 -3.05410734e-02]\n",
      "  [-8.15704493e-03  5.64745098e-02 -3.05410734e-02  6.01294156e-01]]\n",
      "\n",
      " [[ 1.99996493e+00  1.18767625e-03  5.68512213e-03 -1.21840758e-03]\n",
      "  [ 1.18767625e-03  6.03620350e-01 -5.76844839e-02 -1.28538682e-02]\n",
      "  [ 5.68512213e-03 -5.76844839e-02  5.86023148e-01  3.06879715e-02]\n",
      "  [-1.21840758e-03 -1.28538682e-02  3.06879715e-02  1.90959797e+00]]\n",
      "\n",
      " [[ 1.99998462e+00  8.82865799e-04  5.83946001e-03 -1.02814416e-03]\n",
      "  [ 8.82865799e-04  6.24541526e-01  5.09755230e-02 -4.32544420e-02]\n",
      "  [ 5.83946001e-03  5.09755230e-02  5.44599711e-01  3.50847781e-02]\n",
      "  [-1.02814416e-03 -4.32544420e-02  3.50847781e-02  1.90552145e+00]]\n",
      "\n",
      " [[ 1.99996681e+00  7.32704129e-04  4.73313140e-04 -8.56707391e-03]\n",
      "  [ 7.32704129e-04  6.47929439e-01 -8.09501568e-03 -5.12350771e-02]\n",
      "  [ 4.73313140e-04 -8.09501568e-03  1.90901496e+00 -3.25011966e-02]\n",
      "  [-8.56707391e-03 -5.12350771e-02 -3.25011966e-02  5.28590968e-01]]]\n"
     ]
    },
    {
     "data": {
      "image/png": "[encoded data removed]",
      "text/plain": [
       "<Figure size 432x288 with 1 Axes>"
      ]
     },
     "metadata": {
      "needs_background": "light"
     },
     "output_type": "display_data"
    }
   ],
   "source": [
    "gmmModel = GaussianMixture(n_components=4,covariance_type='full', random_state=0)\n",
    "gmmModel.fit(x_train)\n",
    "labels = gmmModel.predict(x_train)\n",
    "print(labels)\n",
    "#plot_gmm(gmmModel, x_train)\n",
    "plt.scatter(x_train[:, 0], x_train[:, 1]);\n",
    "print(gmmModel.means_)\n",
    "print(gmmModel.covariances_)"
   ]
  },
  {
   "cell_type": "raw",
   "metadata": {},
   "source": [
    "change the change parameters of training,to get new GaussianMixture model.\n",
    "the  covariance_type is include diagonal,spherical,tied,full.Following code use the spherical parameter."
   ]
  },
  {
   "cell_type": "code",
   "execution_count": 98,
   "metadata": {},
   "outputs": [
    {
     "name": "stdout",
     "output_type": "stream",
     "text": [
      "[1 1 1 1 1 1 1 1 1 1 2 2 2 1 1 2 2 2 2 2 2 2 2 2 2 1 1 1 1 1 0 1 1 1 1 2 2\n",
      " 2 1 1 2 2 2 2 3 2 2 2 2 2 0 0 1 1 1 0 0 1 1 1 0 0 3 3 3 2 2 2 3 3 2 2 2 3\n",
      " 3 0 0 0 1 3 0 0 0 3 3 0 0 3 3 3 0 0 3 3 3 2 2 3 3 3 0 0 0 3 3 0 0 0 3 3 0\n",
      " 0 0 3 3 0 0 3 3 3 0 0 3 3 3 1 1 1 1 1 1 1 1 1 1 2 2 1 1 1 2 2 2 2 2 2 2 2\n",
      " 2 2 1 1 1 1 1 0 1 1 1 1 2 2 1 1 1 2 2 2 2 3 2 2 2 2 2 0 0 1 1 1 0 0 1 1 1\n",
      " 0 0 3 3 3 2 2 2 3 3 2 2 2 3 3 0 0 0 1 3 0 0 0 3 3 0 0 3 3 3 0 0 3 3 3 2 2\n",
      " 3 3 3 0 0 0 3 3 0 0 0 3 3 0 0 0 3 3 0 0 3 3 3 0 0 3 3 3 1 1 1 1 1 1 1 1 1\n",
      " 1 2 2 1 1 1 2 2 2 2 2 2 2 2 2 2 1 1 1 1 1 0 1 1 1 1 2 2 1 1 1 2 2 2 2 3 2\n",
      " 2 2 2 3 0 0 1 1 1 0 0 1 1 1 0 0 3 3 3 2 2 2 3 3 2 2 2 3 3 0 0 0 1 3 0 0 0\n",
      " 3 3 0 0 3 3 3 0 0 3 3 3 2 2 3 3 3 0 0 0 3 3 0 0 0 3 3 0 0 3 3 3 0 0 3 3 3\n",
      " 0 0 3 3 3 1 1 1 1 1 1 1 1 1 1 2 2 1 1 1 2 2 2 2 2 2 2 2 2 2 1 1 1 1 1 0 1\n",
      " 1 1 1 2 2 1 1 1 2 2 2 2 3 2 2 2 2 3 0 0 1 1 1 0 0 1 1 1 0 0 3 3 3 2 2 2 3\n",
      " 3 2 2 2 3 3 0 0 0 1 3 0 0 0 3 3 0 0 3 3 3 0 0 3 3 3 2 2 3 3 3 0 0 0 3 3 0\n",
      " 0 0 3 3 0 0 3 3 3 0 0 3 3 3 0 0 3 3 3 1 1 1 1 1 1 1 1 1 1 2 2 1 1 1 2 2 2\n",
      " 2 2 2 2 2 2 2 1 1 1 1 1 0 1 1 1 1 2 2 1 1 1 2 2 2 2 3 2 2 2 2 3 0 1 1 1 1\n",
      " 0 0 1 1 1 0 0 3 3 3 2 2 2 3 3 2 2 2 3 3 0 0 0 1 3 0 0 0 3 3 0 0 3 3 3 0 0\n",
      " 3 3 3 2 2 3 3 3 0 0 0 3 3 0 0 0 3 3 0 0 3 3 3 0 0 3 3 3 0 0 3 3 3]\n",
      "[[2.97356876 3.77293038 2.65068902 2.12667494]\n",
      " [3.01944332 2.25373645 2.13787177 3.30897056]\n",
      " [2.98343056 2.27241867 3.86684009 2.63847182]\n",
      " [3.02151447 3.71062162 3.32772213 3.85626654]]\n",
      "[1.62998786 1.65107349 1.64673241 1.66308806]\n"
     ]
    },
    {
     "data": {
      "image/png": "[encoded data removed]",
      "text/plain": [
       "<Figure size 432x288 with 1 Axes>"
      ]
     },
     "metadata": {
      "needs_background": "light"
     },
     "output_type": "display_data"
    }
   ],
   "source": [
    "gmmModel = GaussianMixture(n_components=4,covariance_type='spherical', random_state=0)\n",
    "gmmModel.fit(x_train)\n",
    "labels = gmmModel.predict(x_train)\n",
    "print(labels)\n",
    "#plot_gmm(gmmModel, x_train)\n",
    "plt.scatter(x_train[:, 0], x_train[:, 1]);\n",
    "print(gmmModel.means_)\n",
    "print(gmmModel.covariances_)"
   ]
  },
  {
   "cell_type": "code",
   "execution_count": 99,
   "metadata": {},
   "outputs": [],
   "source": [
    "from sklearn.linear_model import LogisticRegression\n",
    "from sklearn.model_selection import train_test_split\n",
    "\n",
    "x=backuptrain[['Left-Weight','Left-Distance','Right-Weight','Right-Distance']].values\n",
    "y=backuptrain['Class_Name'].values\n",
    "x_train,x_test,y_train,y_test = train_test_split(x,y,test_size=0.4,random_state=3)"
   ]
  },
  {
   "cell_type": "code",
   "execution_count": 100,
   "metadata": {},
   "outputs": [
    {
     "data": {
      "text/plain": [
       "0.8773333333333333"
      ]
     },
     "execution_count": 100,
     "metadata": {},
     "output_type": "execute_result"
    }
   ],
   "source": [
    "Model = LogisticRegression()\n",
    "Model.fit(x_train, y_train)\n",
    "Model.score(x_train,y_train)\n",
    "\n"
   ]
  },
  {
   "cell_type": "raw",
   "metadata": {},
   "source": [
    "In this lab,I use Logistic regression model to predict the class.And Logistic Regression  is a classical model for classification,and is simple and useful in classification.The essence of logistic regression is to assume that the data obey this distribution, and then use the maximum likelihood estimation to estimate the parameters.\n",
    "\n",
    "And Gaussian mixture model (GMM) is a common statistical learning method of probability models. It solves the problem of clustering data samples by estimating the probability density distribution of samples.The distribution of observation points and data is regarded as a mixture of multiple single Gaussian distribution models, and each component is a cluster center.And in lab I use the different parameters of Gaussian mixture model to processing data."
   ]
  },
  {
   "cell_type": "code",
   "execution_count": null,
   "metadata": {},
   "outputs": [],
   "source": []
  }
 ],
 "metadata": {
  "kernelspec": {
   "display_name": "Python 3",
   "language": "python",
   "name": "python3"
  },
  "language_info": {
   "codemirror_mode": {
    "name": "ipython",
    "version": 3
   },
   "file_extension": ".py",
   "mimetype": "text/x-python",
   "name": "python",
   "nbconvert_exporter": "python",
   "pygments_lexer": "ipython3",
   "version": "3.8.5"
  }
 },
 "nbformat": 4,
 "nbformat_minor": 4
}
